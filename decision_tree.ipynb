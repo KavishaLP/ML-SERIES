{
  "nbformat": 4,
  "nbformat_minor": 0,
  "metadata": {
    "colab": {
      "provenance": []
    },
    "kernelspec": {
      "name": "python3",
      "display_name": "Python 3"
    },
    "language_info": {
      "name": "python"
    }
  },
  "cells": [
    {
      "cell_type": "code",
      "execution_count": 1,
      "metadata": {
        "colab": {
          "base_uri": "https://localhost:8080/"
        },
        "id": "Jwr8qlM7Wck3",
        "outputId": "739be552-b117-4d2f-8909-9084bdadf023"
      },
      "outputs": [
        {
          "output_type": "stream",
          "name": "stdout",
          "text": [
            "Requirement already satisfied: pandas in /usr/local/lib/python3.10/dist-packages (2.0.3)\n",
            "Requirement already satisfied: python-dateutil>=2.8.2 in /usr/local/lib/python3.10/dist-packages (from pandas) (2.8.2)\n",
            "Requirement already satisfied: pytz>=2020.1 in /usr/local/lib/python3.10/dist-packages (from pandas) (2023.4)\n",
            "Requirement already satisfied: tzdata>=2022.1 in /usr/local/lib/python3.10/dist-packages (from pandas) (2024.1)\n",
            "Requirement already satisfied: numpy>=1.21.0 in /usr/local/lib/python3.10/dist-packages (from pandas) (1.25.2)\n",
            "Requirement already satisfied: six>=1.5 in /usr/local/lib/python3.10/dist-packages (from python-dateutil>=2.8.2->pandas) (1.16.0)\n",
            "Requirement already satisfied: scikit-learn in /usr/local/lib/python3.10/dist-packages (1.2.2)\n",
            "Requirement already satisfied: numpy>=1.17.3 in /usr/local/lib/python3.10/dist-packages (from scikit-learn) (1.25.2)\n",
            "Requirement already satisfied: scipy>=1.3.2 in /usr/local/lib/python3.10/dist-packages (from scikit-learn) (1.11.4)\n",
            "Requirement already satisfied: joblib>=1.1.1 in /usr/local/lib/python3.10/dist-packages (from scikit-learn) (1.4.2)\n",
            "Requirement already satisfied: threadpoolctl>=2.0.0 in /usr/local/lib/python3.10/dist-packages (from scikit-learn) (3.5.0)\n"
          ]
        }
      ],
      "source": [
        "#data manipulation\n",
        "!pip install pandas\n",
        "\n",
        "!pip install scikit-learn\n"
      ]
    },
    {
      "cell_type": "code",
      "source": [
        "#Visualize a graph\n",
        "!pip install matplotlib"
      ],
      "metadata": {
        "colab": {
          "base_uri": "https://localhost:8080/"
        },
        "id": "53XbeeRFWivn",
        "outputId": "374d75cc-2161-4a29-e31e-04cbe862085c"
      },
      "execution_count": 2,
      "outputs": [
        {
          "output_type": "stream",
          "name": "stdout",
          "text": [
            "Requirement already satisfied: matplotlib in /usr/local/lib/python3.10/dist-packages (3.7.1)\n",
            "Requirement already satisfied: contourpy>=1.0.1 in /usr/local/lib/python3.10/dist-packages (from matplotlib) (1.2.1)\n",
            "Requirement already satisfied: cycler>=0.10 in /usr/local/lib/python3.10/dist-packages (from matplotlib) (0.12.1)\n",
            "Requirement already satisfied: fonttools>=4.22.0 in /usr/local/lib/python3.10/dist-packages (from matplotlib) (4.51.0)\n",
            "Requirement already satisfied: kiwisolver>=1.0.1 in /usr/local/lib/python3.10/dist-packages (from matplotlib) (1.4.5)\n",
            "Requirement already satisfied: numpy>=1.20 in /usr/local/lib/python3.10/dist-packages (from matplotlib) (1.25.2)\n",
            "Requirement already satisfied: packaging>=20.0 in /usr/local/lib/python3.10/dist-packages (from matplotlib) (24.0)\n",
            "Requirement already satisfied: pillow>=6.2.0 in /usr/local/lib/python3.10/dist-packages (from matplotlib) (9.4.0)\n",
            "Requirement already satisfied: pyparsing>=2.3.1 in /usr/local/lib/python3.10/dist-packages (from matplotlib) (3.1.2)\n",
            "Requirement already satisfied: python-dateutil>=2.7 in /usr/local/lib/python3.10/dist-packages (from matplotlib) (2.8.2)\n",
            "Requirement already satisfied: six>=1.5 in /usr/local/lib/python3.10/dist-packages (from python-dateutil>=2.7->matplotlib) (1.16.0)\n"
          ]
        }
      ]
    },
    {
      "cell_type": "code",
      "source": [
        "!pip install pyarrow"
      ],
      "metadata": {
        "colab": {
          "base_uri": "https://localhost:8080/"
        },
        "id": "Y3l4jMYIWpAD",
        "outputId": "1d719c99-177d-4919-bfe1-23bfe0a67013"
      },
      "execution_count": 3,
      "outputs": [
        {
          "output_type": "stream",
          "name": "stdout",
          "text": [
            "Requirement already satisfied: pyarrow in /usr/local/lib/python3.10/dist-packages (14.0.2)\n",
            "Requirement already satisfied: numpy>=1.16.6 in /usr/local/lib/python3.10/dist-packages (from pyarrow) (1.25.2)\n"
          ]
        }
      ]
    },
    {
      "cell_type": "code",
      "source": [
        "import pandas as pd\n",
        "import matplotlib\n",
        "\n",
        "import matplotlib.pyplot as plt\n",
        "from sklearn.preprocessing import LabelEncoder\n",
        "from sklearn import tree\n",
        "from sklearn.tree import DecisionTreeClassifier\n",
        "from sklearn.ensemble import RandomForestClassifier\n",
        "from sklearn.model_selection import train_test_split\n"
      ],
      "metadata": {
        "id": "Ua-JrZluWv-r"
      },
      "execution_count": 20,
      "outputs": []
    },
    {
      "cell_type": "code",
      "source": [
        "df=pd.read_csv('Decision_tree.csv')\n",
        "print(df)\n",
        "df_train=df[:10]\n",
        "df_test=df[10:]"
      ],
      "metadata": {
        "colab": {
          "base_uri": "https://localhost:8080/"
        },
        "id": "NJnVUfzNWyBl",
        "outputId": "38b352b8-6993-4a8d-fb76-642fb513e752"
      },
      "execution_count": 6,
      "outputs": [
        {
          "output_type": "stream",
          "name": "stdout",
          "text": [
            "       AGE INCOME      JOB INSURANCE\n",
            "0    young    low  student        no\n",
            "1    young    low  student        no\n",
            "2   middle   high    woker       yes\n",
            "3    young    low  student        no\n",
            "4    young    low  student        no\n",
            "5    elder   high    woker       yes\n",
            "6   middle    low    woker        no\n",
            "7   middle   high    woker       yes\n",
            "8   middle    low  student        no\n",
            "9    elder   high    woker       yes\n",
            "10  middle   high    woker       NaN\n"
          ]
        }
      ]
    },
    {
      "cell_type": "code",
      "source": [
        "#convert to numerical value\n",
        "AGE=LabelEncoder()\n",
        "IncompatibleFrequency=LabelEncoder()\n",
        "JOB=LabelEncoder()\n",
        "INSURANCE=LabelEncoder()\n",
        "df['age_le']=age.fit_transform(df['AGE'])\n",
        "df['income_le']=age.fit_transform(df['INCOME'])\n",
        "df['job_le']=age.fit_transform(df['JOB'])\n",
        "df['insurance_le']=age.fit_transform(df['INSURANCE'])\n",
        "df_train=df[:10]\n",
        "df_test=df[10:]\n",
        "print(df)"
      ],
      "metadata": {
        "colab": {
          "base_uri": "https://localhost:8080/"
        },
        "id": "DsjS0z8JYMfi",
        "outputId": "da899b1e-5377-414a-9f0b-1255847b1ca4"
      },
      "execution_count": 14,
      "outputs": [
        {
          "output_type": "stream",
          "name": "stdout",
          "text": [
            "       AGE INCOME      JOB INSURANCE  age_le  income_le  job_le  insurance_le\n",
            "0    young    low  student        no       2          1       0             0\n",
            "1    young    low  student        no       2          1       0             0\n",
            "2   middle   high    woker       yes       1          0       1             1\n",
            "3    young    low  student        no       2          1       0             0\n",
            "4    young    low  student        no       2          1       0             0\n",
            "5    elder   high    woker       yes       0          0       1             1\n",
            "6   middle    low    woker        no       1          1       1             0\n",
            "7   middle   high    woker       yes       1          0       1             1\n",
            "8   middle    low  student        no       1          1       0             0\n",
            "9    elder   high    woker       yes       0          0       1             1\n",
            "10  middle   high    woker       NaN       1          0       1             2\n"
          ]
        }
      ]
    },
    {
      "cell_type": "code",
      "source": [
        "model=tree.DecisionTreeClassifier()\n",
        "model.fit(df_train[['age_le','income_le','job_le']],df_train['insurance_le'])\n",
        "print(model.predict(df_test[['age_le','income_le','job_le']]))\n"
      ],
      "metadata": {
        "colab": {
          "base_uri": "https://localhost:8080/"
        },
        "id": "y-c6aRMOY3rE",
        "outputId": "c0911f8e-1bb0-4061-a86d-59843747f409"
      },
      "execution_count": 19,
      "outputs": [
        {
          "output_type": "stream",
          "name": "stdout",
          "text": [
            "[1]\n"
          ]
        }
      ]
    },
    {
      "cell_type": "code",
      "source": [
        "#random forest classifier\n",
        "model=RandomForestClassifier()\n",
        "model.fit(df_train[['age_le','income_le','job_le']],df_train['insurance_le'])\n",
        "print(model.predict(df_test[['age_le','income_le','job_le']]))"
      ],
      "metadata": {
        "colab": {
          "base_uri": "https://localhost:8080/"
        },
        "id": "T1RL-gj1joJS",
        "outputId": "82a1ef57-e228-48c2-d555-f89b5fd9b016"
      },
      "execution_count": 21,
      "outputs": [
        {
          "output_type": "stream",
          "name": "stdout",
          "text": [
            "[1]\n"
          ]
        }
      ]
    },
    {
      "cell_type": "markdown",
      "source": [],
      "metadata": {
        "id": "7c0UY6BPhTYB"
      }
    }
  ]
}